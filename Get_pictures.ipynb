{
 "cells": [
  {
   "cell_type": "code",
   "execution_count": 1,
   "metadata": {},
   "outputs": [],
   "source": [
    "import pandas as pd\n",
    "from glob import glob\n",
    "import re"
   ]
  },
  {
   "cell_type": "code",
   "execution_count": 4,
   "metadata": {},
   "outputs": [],
   "source": [
    "images = glob('img/*/*.jpg')"
   ]
  },
  {
   "cell_type": "code",
   "execution_count": 8,
   "metadata": {},
   "outputs": [],
   "source": [
    "df = pd.DataFrame(images, columns=['path'])"
   ]
  },
  {
   "cell_type": "code",
   "execution_count": 10,
   "metadata": {},
   "outputs": [],
   "source": [
    "df['file'] = df['path'].apply(lambda x: x.split('/')[-1])\n",
    "df['folder'] = df['path'].apply(lambda x: x.split('/')[-2])"
   ]
  },
  {
   "cell_type": "code",
   "execution_count": 16,
   "metadata": {},
   "outputs": [],
   "source": [
    "df['cover'] = df['file'].apply(lambda x: 'yes' if x.find('400.jpg') > 0 else 'no')"
   ]
  },
  {
   "cell_type": "code",
   "execution_count": 18,
   "metadata": {},
   "outputs": [
    {
     "data": {
      "text/html": [
       "<div>\n",
       "<style scoped>\n",
       "    .dataframe tbody tr th:only-of-type {\n",
       "        vertical-align: middle;\n",
       "    }\n",
       "\n",
       "    .dataframe tbody tr th {\n",
       "        vertical-align: top;\n",
       "    }\n",
       "\n",
       "    .dataframe thead th {\n",
       "        text-align: right;\n",
       "    }\n",
       "</style>\n",
       "<table border=\"1\" class=\"dataframe\">\n",
       "  <thead>\n",
       "    <tr style=\"text-align: right;\">\n",
       "      <th></th>\n",
       "      <th>path</th>\n",
       "      <th>file</th>\n",
       "      <th>folder</th>\n",
       "      <th>cover</th>\n",
       "    </tr>\n",
       "  </thead>\n",
       "  <tbody>\n",
       "    <tr>\n",
       "      <th>2</th>\n",
       "      <td>img/Creatives/Creatives_400.jpg</td>\n",
       "      <td>Creatives_400.jpg</td>\n",
       "      <td>Creatives</td>\n",
       "      <td>yes</td>\n",
       "    </tr>\n",
       "    <tr>\n",
       "      <th>12</th>\n",
       "      <td>img/Expats/Expats_400.jpg</td>\n",
       "      <td>Expats_400.jpg</td>\n",
       "      <td>Expats</td>\n",
       "      <td>yes</td>\n",
       "    </tr>\n",
       "    <tr>\n",
       "      <th>24</th>\n",
       "      <td>img/Investors/Investors_400.jpg</td>\n",
       "      <td>Investors_400.jpg</td>\n",
       "      <td>Investors</td>\n",
       "      <td>yes</td>\n",
       "    </tr>\n",
       "    <tr>\n",
       "      <th>34</th>\n",
       "      <td>img/Researchers/Researchers_400.jpg</td>\n",
       "      <td>Researchers_400.jpg</td>\n",
       "      <td>Researchers</td>\n",
       "      <td>yes</td>\n",
       "    </tr>\n",
       "    <tr>\n",
       "      <th>47</th>\n",
       "      <td>img/Tech Leaders/Tech_Avantgardisten_400.jpg</td>\n",
       "      <td>Tech_Avantgardisten_400.jpg</td>\n",
       "      <td>Tech Leaders</td>\n",
       "      <td>yes</td>\n",
       "    </tr>\n",
       "    <tr>\n",
       "      <th>54</th>\n",
       "      <td>img/Unicorn_Raisers/Unicorn-Raisers_400.jpg</td>\n",
       "      <td>Unicorn-Raisers_400.jpg</td>\n",
       "      <td>Unicorn_Raisers</td>\n",
       "      <td>yes</td>\n",
       "    </tr>\n",
       "  </tbody>\n",
       "</table>\n",
       "</div>"
      ],
      "text/plain": [
       "                                            path                         file  \\\n",
       "2                img/Creatives/Creatives_400.jpg            Creatives_400.jpg   \n",
       "12                     img/Expats/Expats_400.jpg               Expats_400.jpg   \n",
       "24               img/Investors/Investors_400.jpg            Investors_400.jpg   \n",
       "34           img/Researchers/Researchers_400.jpg          Researchers_400.jpg   \n",
       "47  img/Tech Leaders/Tech_Avantgardisten_400.jpg  Tech_Avantgardisten_400.jpg   \n",
       "54   img/Unicorn_Raisers/Unicorn-Raisers_400.jpg      Unicorn-Raisers_400.jpg   \n",
       "\n",
       "             folder cover  \n",
       "2         Creatives   yes  \n",
       "12           Expats   yes  \n",
       "24        Investors   yes  \n",
       "34      Researchers   yes  \n",
       "47     Tech Leaders   yes  \n",
       "54  Unicorn_Raisers   yes  "
      ]
     },
     "execution_count": 18,
     "metadata": {},
     "output_type": "execute_result"
    }
   ],
   "source": [
    "df[df['cover'] == 'yes']"
   ]
  },
  {
   "cell_type": "code",
   "execution_count": 19,
   "metadata": {},
   "outputs": [],
   "source": [
    "df.to_csv('pictures.csv')"
   ]
  },
  {
   "cell_type": "code",
   "execution_count": null,
   "metadata": {},
   "outputs": [],
   "source": []
  }
 ],
 "metadata": {
  "kernelspec": {
   "display_name": "Python 3",
   "language": "python",
   "name": "python3"
  },
  "language_info": {
   "codemirror_mode": {
    "name": "ipython",
    "version": 3
   },
   "file_extension": ".py",
   "mimetype": "text/x-python",
   "name": "python",
   "nbconvert_exporter": "python",
   "pygments_lexer": "ipython3",
   "version": "3.7.0"
  }
 },
 "nbformat": 4,
 "nbformat_minor": 2
}
