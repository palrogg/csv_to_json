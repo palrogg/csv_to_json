{
 "cells": [
  {
   "cell_type": "markdown",
   "metadata": {},
   "source": [
    "# Export d’articles MDB\n",
    "\n",
    "Ce notebook parcourt un export HTML de MDB et le transforme en un tableau d’articles. On peut transformer ce tableau en CSV ou json par exemple.\n",
    "\n",
    "Pour mieux faire: l’API de DCX https://github.com/digicol/dcx-sdk-php"
   ]
  },
  {
   "cell_type": "code",
   "execution_count": 1,
   "metadata": {},
   "outputs": [],
   "source": [
    "from bs4 import BeautifulSoup\n",
    "from glob import glob\n",
    "import pandas as pd\n",
    "import re\n",
    "import gender_guesser.detector as gender\n",
    "from nameparser import HumanName\n",
    "import unicodedata"
   ]
  },
  {
   "cell_type": "code",
   "execution_count": 2,
   "metadata": {},
   "outputs": [],
   "source": [
    "pd.set_option('display.max_colwidth', 999)"
   ]
  },
  {
   "cell_type": "code",
   "execution_count": 3,
   "metadata": {},
   "outputs": [],
   "source": [
    "files = glob('stories/*.html')"
   ]
  },
  {
   "cell_type": "code",
   "execution_count": 4,
   "metadata": {},
   "outputs": [],
   "source": [
    "def getContents(file):\n",
    "    with open(file, 'r') as f:\n",
    "        doc = BeautifulSoup(f.read(), 'html.parser')\n",
    "    meta = {}\n",
    "    for tr in doc.select('table tr'):\n",
    "        meta[tr.find('th').text.replace(':', '').strip()] = tr.find('td').text.strip()\n",
    "    meta['Paragraphs'] = [i.text for i in doc.select('p') if i != '']\n",
    "    return meta"
   ]
  },
  {
   "cell_type": "code",
   "execution_count": 5,
   "metadata": {},
   "outputs": [
    {
     "name": "stdout",
     "output_type": "stream",
     "text": [
      "Dataframe contains 102 stories.\n"
     ]
    }
   ],
   "source": [
    "cols = ['Titre', 'Chapeau', 'Pour Correction (LA)', 'Paragraphs']\n",
    "df = pd.DataFrame(columns=cols)\n",
    "for file in files:\n",
    "    data = getContents(file)\n",
    "    story = {}\n",
    "    for key in cols:\n",
    "        if key in data.keys():\n",
    "            story[key] = data[key]\n",
    "        else:\n",
    "            print('WARNING: no', key, 'for story', data['Titre'])\n",
    "            story[key] = ''\n",
    "    df = df.append(pd.DataFrame([story], columns=cols))\n",
    "print('Dataframe contains', len(df), 'stories.')"
   ]
  },
  {
   "cell_type": "code",
   "execution_count": 6,
   "metadata": {},
   "outputs": [],
   "source": [
    "df.reset_index(inplace=True)"
   ]
  },
  {
   "cell_type": "code",
   "execution_count": 7,
   "metadata": {},
   "outputs": [],
   "source": [
    "def getText(paragraph):\n",
    "    p = [i.strip() for i in paragraph[1:-1]]\n",
    "    return \"\\n\".join(p).strip()"
   ]
  },
  {
   "cell_type": "code",
   "execution_count": 8,
   "metadata": {},
   "outputs": [],
   "source": [
    "df['Text'] = df['Paragraphs'].apply(getText)"
   ]
  }
 ],
 "metadata": {
  "kernelspec": {
   "display_name": "Python 3",
   "language": "python",
   "name": "python3"
  },
  "language_info": {
   "codemirror_mode": {
    "name": "ipython",
    "version": 3
   },
   "file_extension": ".py",
   "mimetype": "text/x-python",
   "name": "python",
   "nbconvert_exporter": "python",
   "pygments_lexer": "ipython3",
   "version": "3.7.0"
  }
 },
 "nbformat": 4,
 "nbformat_minor": 2
}
