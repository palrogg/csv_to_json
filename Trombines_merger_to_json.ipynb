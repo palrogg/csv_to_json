{
 "cells": [
  {
   "cell_type": "code",
   "execution_count": 1,
   "metadata": {},
   "outputs": [],
   "source": [
    "import pandas as pd\n",
    "import json\n",
    "import requests\n",
    "from glob import glob\n",
    "from bs4 import BeautifulSoup\n",
    "from nameparser import HumanName\n",
    "import unicodedata\n",
    "import re"
   ]
  },
  {
   "cell_type": "code",
   "execution_count": 2,
   "metadata": {},
   "outputs": [
    {
     "data": {
      "text/plain": [
       "(102, 21)"
      ]
     },
     "execution_count": 2,
     "metadata": {},
     "output_type": "execute_result"
    }
   ],
   "source": [
    "#\n",
    "# Store and load spreadsheet\n",
    "#\n",
    "\n",
    "response = requests.get('https://docs.google.com/spreadsheets/d/1TaFZwPyKXRcLBOmhbpRBFD2f2N3u5cOeuViyQkkxZ3A/export?format=csv')\n",
    "with open('spreadsheet.csv', 'wb') as f:\n",
    "    f.write(response.content)\n",
    "df_links = pd.read_csv('spreadsheet.csv')\n",
    "#  usecols=['cardId', 'Name', 'parameter', 'cardSubtitle', 'cardfilter4Tri',\n",
    "#       'cardfilter4Display', 'Image', 'Crédit image', 'cardfilter0Tri', 'cardfilter5Display', 'cardSection5Text',\n",
    "#'cardSection6Text', 'New']\n",
    "\n",
    "# On elimine une ligne d'infos\n",
    "df_links = df_links[df_links['Name'] == df_links['Name']].copy()\n",
    "\n",
    "df_links['cardId'] = df_links['cardId'].astype(int)\n",
    "df_links['isNew'] = df_links['New'].apply(lambda x: 'is-new' if x == 'New' else 'not-new')\n",
    "\n",
    "df_links.shape"
   ]
  },
  {
   "cell_type": "code",
   "execution_count": 3,
   "metadata": {},
   "outputs": [
    {
     "name": "stdout",
     "output_type": "stream",
     "text": [
      "Dataframe contains 101 stories.\n"
     ]
    }
   ],
   "source": [
    "#\n",
    "# Get stories\n",
    "#\n",
    "\n",
    "files = glob('stories/*.html')\n",
    "def getContents(file):\n",
    "    with open(file, 'r') as f:\n",
    "        doc = BeautifulSoup(f.read(), 'html.parser')\n",
    "    meta = {}\n",
    "    for tr in doc.select('table tr'):\n",
    "        meta[tr.find('th').text.replace(':', '').strip()] = tr.find('td').text.strip()\n",
    "    meta['Paragraphs'] = [i.text for i in doc.select('p') if i != '']\n",
    "    return meta\n",
    "\n",
    "cols = ['Titre', 'Chapeau', 'Pour Correction (LA)', 'Paragraphs']\n",
    "df = pd.DataFrame(columns=cols)\n",
    "\n",
    "for file in files:\n",
    "    data = getContents(file)\n",
    "    story = {}\n",
    "    for key in cols:\n",
    "        if key in data.keys():\n",
    "            story[key] = data[key]\n",
    "        else:\n",
    "            print('WARNING: no', key, 'for story', data['Titre'])\n",
    "            story[key] = ''\n",
    "    df = df.append(pd.DataFrame([story], columns=cols))\n",
    "print('Dataframe contains', len(df), 'stories.')\n",
    "\n",
    "def getText(paragraph):\n",
    "    p = [i.strip() for i in paragraph[1:-1]]\n",
    "    return \"\\n\".join(p).strip()\n",
    "\n",
    "df['Text'] = df['Paragraphs'].apply(getText)\n",
    "df['cardSubtitle'] = df['Chapeau']\n",
    "del df['Paragraphs']"
   ]
  },
  {
   "cell_type": "code",
   "execution_count": 4,
   "metadata": {},
   "outputs": [],
   "source": [
    "def getName(titre):\n",
    "    name = re.search('\\d (27.09 ){0,1}([a-zA-ZÀ-ÿ’\\- ]*)', titre)\n",
    "    return name.group(2)\n",
    "\n",
    "def getParameter(name):\n",
    "    nfkd_form = unicodedata.normalize('NFKD', name)\n",
    "    name = u\"\".join([c for c in nfkd_form if not unicodedata.combining(c)])\n",
    "    return name.strip().replace(' ', '-').lower()\n",
    "\n",
    "def getLastName(name):\n",
    "    return HumanName(name).last\n",
    "\n",
    "df['cardTitre'] = df['Titre'].apply(getName)\n",
    "df['parameter'] = df['cardTitre'].apply(getParameter)\n",
    "df['Last Name'] = df['cardTitre'].apply(getLastName)\n",
    "df.sort_values('Last Name', inplace=True)"
   ]
  },
  {
   "cell_type": "code",
   "execution_count": 5,
   "metadata": {},
   "outputs": [],
   "source": [
    "df['parameter'] = df['parameter'].apply(lambda x: x.replace('valentina-s', 'valentina-velandia'))"
   ]
  },
  {
   "cell_type": "code",
   "execution_count": 6,
   "metadata": {},
   "outputs": [
    {
     "data": {
      "text/html": [
       "<div>\n",
       "<style scoped>\n",
       "    .dataframe tbody tr th:only-of-type {\n",
       "        vertical-align: middle;\n",
       "    }\n",
       "\n",
       "    .dataframe tbody tr th {\n",
       "        vertical-align: top;\n",
       "    }\n",
       "\n",
       "    .dataframe thead th {\n",
       "        text-align: right;\n",
       "    }\n",
       "</style>\n",
       "<table border=\"1\" class=\"dataframe\">\n",
       "  <thead>\n",
       "    <tr style=\"text-align: right;\">\n",
       "      <th></th>\n",
       "      <th>Titre</th>\n",
       "      <th>Chapeau</th>\n",
       "      <th>Pour Correction (LA)</th>\n",
       "      <th>Text</th>\n",
       "      <th>cardSubtitle</th>\n",
       "      <th>cardTitre</th>\n",
       "      <th>parameter</th>\n",
       "      <th>Last Name</th>\n",
       "    </tr>\n",
       "  </thead>\n",
       "  <tbody>\n",
       "    <tr>\n",
       "      <th>0</th>\n",
       "      <td>Digital Shapers Portrait 93. 27.09 Valentina S...</td>\n",
       "      <td>Cofondatrice de Capacity Zurich, Zurich</td>\n",
       "      <td>Corrigé</td>\n",
       "      <td>Née en Colombie, Valentina S. Velandia a elle-...</td>\n",
       "      <td>Cofondatrice de Capacity Zurich, Zurich</td>\n",
       "      <td>Valentina S</td>\n",
       "      <td>valentina-velandia</td>\n",
       "      <td>S</td>\n",
       "    </tr>\n",
       "  </tbody>\n",
       "</table>\n",
       "</div>"
      ],
      "text/plain": [
       "                                               Titre  \\\n",
       "0  Digital Shapers Portrait 93. 27.09 Valentina S...   \n",
       "\n",
       "                                   Chapeau Pour Correction (LA)  \\\n",
       "0  Cofondatrice de Capacity Zurich, Zurich              Corrigé   \n",
       "\n",
       "                                                Text  \\\n",
       "0  Née en Colombie, Valentina S. Velandia a elle-...   \n",
       "\n",
       "                              cardSubtitle    cardTitre           parameter  \\\n",
       "0  Cofondatrice de Capacity Zurich, Zurich  Valentina S  valentina-velandia   \n",
       "\n",
       "  Last Name  \n",
       "0         S  "
      ]
     },
     "execution_count": 6,
     "metadata": {},
     "output_type": "execute_result"
    }
   ],
   "source": [
    "df[df['cardTitre'].str.contains('Valentina')]"
   ]
  },
  {
   "cell_type": "code",
   "execution_count": 7,
   "metadata": {},
   "outputs": [
    {
     "data": {
      "text/html": [
       "<div>\n",
       "<style scoped>\n",
       "    .dataframe tbody tr th:only-of-type {\n",
       "        vertical-align: middle;\n",
       "    }\n",
       "\n",
       "    .dataframe tbody tr th {\n",
       "        vertical-align: top;\n",
       "    }\n",
       "\n",
       "    .dataframe thead th {\n",
       "        text-align: right;\n",
       "    }\n",
       "</style>\n",
       "<table border=\"1\" class=\"dataframe\">\n",
       "  <thead>\n",
       "    <tr style=\"text-align: right;\">\n",
       "      <th></th>\n",
       "      <th>Titre</th>\n",
       "      <th>Chapeau</th>\n",
       "      <th>Pour Correction (LA)</th>\n",
       "      <th>Text</th>\n",
       "      <th>cardSubtitle</th>\n",
       "      <th>cardTitre</th>\n",
       "      <th>parameter</th>\n",
       "      <th>Last Name</th>\n",
       "    </tr>\n",
       "  </thead>\n",
       "  <tbody>\n",
       "    <tr>\n",
       "      <th>0</th>\n",
       "      <td>Digital Shapers Article 1. 27.09 Robots pour e...</td>\n",
       "      <td>Le quotidien est hautement numérique, mais pas...</td>\n",
       "      <td>Corrigé</td>\n",
       "      <td>Vous avez des enfants ou petits-enfants en âge...</td>\n",
       "      <td>Le quotidien est hautement numérique, mais pas...</td>\n",
       "      <td>Robots pour enfants</td>\n",
       "      <td>robots-pour-enfants</td>\n",
       "      <td>enfants</td>\n",
       "    </tr>\n",
       "  </tbody>\n",
       "</table>\n",
       "</div>"
      ],
      "text/plain": [
       "                                               Titre  \\\n",
       "0  Digital Shapers Article 1. 27.09 Robots pour e...   \n",
       "\n",
       "                                             Chapeau Pour Correction (LA)  \\\n",
       "0  Le quotidien est hautement numérique, mais pas...              Corrigé   \n",
       "\n",
       "                                                Text  \\\n",
       "0  Vous avez des enfants ou petits-enfants en âge...   \n",
       "\n",
       "                                        cardSubtitle            cardTitre  \\\n",
       "0  Le quotidien est hautement numérique, mais pas...  Robots pour enfants   \n",
       "\n",
       "             parameter Last Name  \n",
       "0  robots-pour-enfants   enfants  "
      ]
     },
     "execution_count": 7,
     "metadata": {},
     "output_type": "execute_result"
    }
   ],
   "source": [
    "df[-df['Titre'].str.contains('Portrait|Portarit', flags=re.IGNORECASE)]"
   ]
  },
  {
   "cell_type": "code",
   "execution_count": 8,
   "metadata": {},
   "outputs": [],
   "source": [
    "df = df[df['Titre'].str.contains('Portrait|Portarit', flags=re.IGNORECASE)].copy()"
   ]
  },
  {
   "cell_type": "code",
   "execution_count": 9,
   "metadata": {},
   "outputs": [],
   "source": [
    "dfm = df_links.merge(df, on='parameter', how='outer', suffixes=('', '_'))"
   ]
  },
  {
   "cell_type": "code",
   "execution_count": 10,
   "metadata": {},
   "outputs": [],
   "source": [
    "dfm['cardTitre'] = dfm['Name']"
   ]
  },
  {
   "cell_type": "code",
   "execution_count": 11,
   "metadata": {},
   "outputs": [
    {
     "data": {
      "text/plain": [
       "(100, 28)"
      ]
     },
     "execution_count": 11,
     "metadata": {},
     "output_type": "execute_result"
    }
   ],
   "source": [
    "dfm[dfm['Age'] == dfm['Age']].shape"
   ]
  },
  {
   "cell_type": "code",
   "execution_count": 12,
   "metadata": {},
   "outputs": [],
   "source": [
    "dfm['Titre'].fillna('', inplace=True)"
   ]
  },
  {
   "cell_type": "code",
   "execution_count": 13,
   "metadata": {},
   "outputs": [
    {
     "data": {
      "text/html": [
       "<div>\n",
       "<style scoped>\n",
       "    .dataframe tbody tr th:only-of-type {\n",
       "        vertical-align: middle;\n",
       "    }\n",
       "\n",
       "    .dataframe tbody tr th {\n",
       "        vertical-align: top;\n",
       "    }\n",
       "\n",
       "    .dataframe thead th {\n",
       "        text-align: right;\n",
       "    }\n",
       "</style>\n",
       "<table border=\"1\" class=\"dataframe\">\n",
       "  <thead>\n",
       "    <tr style=\"text-align: right;\">\n",
       "      <th></th>\n",
       "      <th>cardId</th>\n",
       "      <th>Name</th>\n",
       "      <th>parameter</th>\n",
       "      <th>cardSubtitle</th>\n",
       "      <th>cardFilter4Tri</th>\n",
       "      <th>cardFilter4Display</th>\n",
       "      <th>cardFilter4DisplayBackup</th>\n",
       "      <th>Image</th>\n",
       "      <th>Crédit image</th>\n",
       "      <th>New</th>\n",
       "      <th>...</th>\n",
       "      <th>cardSection6Text</th>\n",
       "      <th>URL</th>\n",
       "      <th>isNew</th>\n",
       "      <th>Titre</th>\n",
       "      <th>Chapeau</th>\n",
       "      <th>Pour Correction (LA)</th>\n",
       "      <th>Text</th>\n",
       "      <th>cardSubtitle_</th>\n",
       "      <th>cardTitre</th>\n",
       "      <th>Last Name</th>\n",
       "    </tr>\n",
       "  </thead>\n",
       "  <tbody>\n",
       "    <tr>\n",
       "      <th>100</th>\n",
       "      <td>200</td>\n",
       "      <td>Editorial</td>\n",
       "      <td>editorial</td>\n",
       "      <td>Digital first</td>\n",
       "      <td>NaN</td>\n",
       "      <td>NaN</td>\n",
       "      <td>NaN</td>\n",
       "      <td>NaN</td>\n",
       "      <td>NaN</td>\n",
       "      <td>NaN</td>\n",
       "      <td>...</td>\n",
       "      <td>NaN</td>\n",
       "      <td>NaN</td>\n",
       "      <td>not-new</td>\n",
       "      <td></td>\n",
       "      <td>NaN</td>\n",
       "      <td>NaN</td>\n",
       "      <td>NaN</td>\n",
       "      <td>NaN</td>\n",
       "      <td>Editorial</td>\n",
       "      <td>NaN</td>\n",
       "    </tr>\n",
       "    <tr>\n",
       "      <th>101</th>\n",
       "      <td>300</td>\n",
       "      <td>Publireportage</td>\n",
       "      <td>publireportage</td>\n",
       "      <td>Un regard sur l’avenir</td>\n",
       "      <td>NaN</td>\n",
       "      <td>NaN</td>\n",
       "      <td>NaN</td>\n",
       "      <td>NaN</td>\n",
       "      <td>NaN</td>\n",
       "      <td>NaN</td>\n",
       "      <td>...</td>\n",
       "      <td>NaN</td>\n",
       "      <td>NaN</td>\n",
       "      <td>not-new</td>\n",
       "      <td></td>\n",
       "      <td>NaN</td>\n",
       "      <td>NaN</td>\n",
       "      <td>NaN</td>\n",
       "      <td>NaN</td>\n",
       "      <td>Publireportage</td>\n",
       "      <td>NaN</td>\n",
       "    </tr>\n",
       "  </tbody>\n",
       "</table>\n",
       "<p>2 rows × 28 columns</p>\n",
       "</div>"
      ],
      "text/plain": [
       "     cardId            Name       parameter            cardSubtitle  \\\n",
       "100     200       Editorial       editorial           Digital first   \n",
       "101     300  Publireportage  publireportage  Un regard sur l’avenir   \n",
       "\n",
       "    cardFilter4Tri cardFilter4Display cardFilter4DisplayBackup Image  \\\n",
       "100            NaN                NaN                      NaN   NaN   \n",
       "101            NaN                NaN                      NaN   NaN   \n",
       "\n",
       "    Crédit image  New    ...    cardSection6Text  URL    isNew Titre Chapeau  \\\n",
       "100          NaN  NaN    ...                 NaN  NaN  not-new           NaN   \n",
       "101          NaN  NaN    ...                 NaN  NaN  not-new           NaN   \n",
       "\n",
       "    Pour Correction (LA) Text cardSubtitle_       cardTitre Last Name  \n",
       "100                  NaN  NaN           NaN       Editorial       NaN  \n",
       "101                  NaN  NaN           NaN  Publireportage       NaN  \n",
       "\n",
       "[2 rows x 28 columns]"
      ]
     },
     "execution_count": 13,
     "metadata": {},
     "output_type": "execute_result"
    }
   ],
   "source": [
    "# «portrait»: manquant pour torrellas\n",
    "dfm[-dfm['Titre'].str.contains('Portrait|Portarit', flags=re.IGNORECASE)]"
   ]
  },
  {
   "cell_type": "code",
   "execution_count": 14,
   "metadata": {},
   "outputs": [],
   "source": [
    "dfm['cardImage'] = 'img/2018/' + dfm['Image']"
   ]
  },
  {
   "cell_type": "code",
   "execution_count": 15,
   "metadata": {},
   "outputs": [],
   "source": [
    "def cleanCredit(credit):\n",
    "    if not isinstance(credit, str):\n",
    "        return\n",
    "    credit = re.sub('\\?|©', '', credit)\n",
    "    credit.replace('|', '/')\n",
    "    return credit.strip()\n",
    "dfm['copyright'] = dfm['Crédit image'].apply(cleanCredit)"
   ]
  },
  {
   "cell_type": "code",
   "execution_count": 16,
   "metadata": {},
   "outputs": [],
   "source": [
    "dfm['Text'].fillna('', inplace=True)"
   ]
  },
  {
   "cell_type": "code",
   "execution_count": 17,
   "metadata": {},
   "outputs": [],
   "source": [
    "def cutText(text):\n",
    "    if text.count('\\n') > 2:\n",
    "        p = text.split('\\n')\n",
    "        return \"\\n\".join(p[:2]).replace('\\n', '</p><p>') + ' <a class=\"readMore\" href=\"#more\">Plus…</a>'\n",
    "    else:\n",
    "        return text\n",
    "\n",
    "def getCollapsedText(text):\n",
    "    if text.count('\\n') > 2:\n",
    "        p = text.split('\\n')\n",
    "        return \"\\n\".join(p[2:])\n",
    "    else:\n",
    "        return ''\n",
    "    \n",
    "dfm['cardSection1Text'] = dfm['Text'].apply(cutText)\n",
    "dfm['cardSection2Text'] = dfm['Text'].apply(getCollapsedText)\n",
    "dfm['cardInfo1'] = dfm['cardSubtitle']\n",
    "dfm['cardInfo2'] = dfm['Age']\n",
    "dfm['cardFilter2Tri'] = dfm['cardFilter2Tri'].apply(lambda x: x.replace('expat', 'f-expat') if x == x else x)"
   ]
  },
  {
   "cell_type": "code",
   "execution_count": 18,
   "metadata": {},
   "outputs": [],
   "source": [
    "# story links\n",
    "def getStoryLink(cell):\n",
    "    try:\n",
    "        title, anchor = cell.split('|')\n",
    "    except:\n",
    "        return ''\n",
    "    return anchor\n",
    "\n",
    "def getStoryTitle(cell):\n",
    "    try:\n",
    "        title, anchor = cell.split('|')\n",
    "    except:\n",
    "        return ''\n",
    "    return title"
   ]
  },
  {
   "cell_type": "code",
   "execution_count": 19,
   "metadata": {},
   "outputs": [],
   "source": [
    "dfm['cardSection4Text'] = dfm['cardSection5Text'].apply(getStoryTitle)\n",
    "dfm['cardSection5Text'] = dfm['cardSection5Text'].apply(getStoryLink)"
   ]
  },
  {
   "cell_type": "code",
   "execution_count": 20,
   "metadata": {},
   "outputs": [],
   "source": [
    "chapitres = {\n",
    "    'f-corporates': 'Grandes entreprises',\n",
    "    'f-creatives': 'Créatifs',\n",
    "    'f-do-gooders': 'Bienfaiteurs', \n",
    "    'f-enabler': 'Facilitateurs',\n",
    "    'f-expats': 'Expats',\n",
    "    'f-investors': 'Investisseurs',\n",
    "    'f-researchers': 'Chercheurs',\n",
    "    'f-serial-entrepreneurs': 'Serial entrepreneurs',\n",
    "    'f-tech-leaders': 'Leaders',\n",
    "    'f-unicorn-raisers': 'Éleveurs de licornes'\n",
    "}\n",
    "\n",
    "def getChapter(cardfilter):\n",
    "    if cardfilter != cardfilter:\n",
    "        return ''\n",
    "    return chapitres[cardfilter]\n",
    "#dfm['cardFilter4Display'] = dfm['cardFilter4Tri'].apply(getChapter)"
   ]
  },
  {
   "cell_type": "code",
   "execution_count": 21,
   "metadata": {},
   "outputs": [],
   "source": [
    "with open('editorial.html', 'r') as f:\n",
    "    edito = f.read()\n",
    "for i, row in dfm[dfm['cardId'] == 200].iterrows():\n",
    "    dfm.at[i,'cardTitre'] = 'Digital first'\n",
    "    dfm.at[i, 'cardSection1Text'] = edito\n",
    "    dfm.at[i, 'parameter'] = None    "
   ]
  },
  {
   "cell_type": "code",
   "execution_count": 22,
   "metadata": {},
   "outputs": [],
   "source": [
    "with open('publireportage_audi.html', 'r') as f:\n",
    "    audi = f.read()\n",
    "for i, row in dfm[dfm['cardId'] == 300].iterrows():\n",
    "    dfm.at[i,'cardTitre'] = 'Un regard sur l’avenir'\n",
    "    dfm.at[i, 'cardSection1Text'] = audi\n",
    "    dfm.at[i, 'parameter'] = None"
   ]
  },
  {
   "cell_type": "code",
   "execution_count": 23,
   "metadata": {},
   "outputs": [],
   "source": [
    "dfm['cardFilter4DisplaySingular'] = dfm['cardFilter4Display'].apply(lambda x: x.lower() if x == x else x) #x.strip('s'))"
   ]
  },
  {
   "cell_type": "code",
   "execution_count": 39,
   "metadata": {},
   "outputs": [],
   "source": [
    "data = json.load(open('data.json'))\n",
    "\n",
    "columns = list(data['cards'][0].keys())\n",
    "columns.append('parameter')\n",
    "columns.append('cardSection2Text')\n",
    "columns.append('cardFilter0Tri')\n",
    "columns.append('isNew')\n",
    "columns.append('copyright')\n",
    "columns.append('cardFilter4DisplaySingular')\n",
    "\n",
    "dfx = dfm.copy()\n",
    "for col in dfx.columns:\n",
    "    if col not in columns:\n",
    "        del dfx[col]\n",
    "\n",
    "emptyColumns = []\n",
    "for col in columns:\n",
    "    if col not in dfm.columns:\n",
    "        emptyColumns.append(col)\n",
    "        dfm[col] = '' #fakedata[col]"
   ]
  },
  {
   "cell_type": "code",
   "execution_count": 51,
   "metadata": {},
   "outputs": [],
   "source": [
    "dfx['cardFilter2Tri'] = dfx['cardFilter2Tri'].apply(lambda x: x.replace('f-f-ex', 'f-ex') if x == x else x)"
   ]
  },
  {
   "cell_type": "code",
   "execution_count": 40,
   "metadata": {},
   "outputs": [
    {
     "data": {
      "text/plain": [
       "no-card    2\n",
       "Name: cardFilter0Tri, dtype: int64"
      ]
     },
     "execution_count": 40,
     "metadata": {},
     "output_type": "execute_result"
    }
   ],
   "source": [
    "dfx['cardFilter0Tri'].value_counts()"
   ]
  },
  {
   "cell_type": "code",
   "execution_count": 45,
   "metadata": {},
   "outputs": [],
   "source": [
    "dfx['cardTeaserImage'] = dfx['cardImage'].apply(lambda x: x.replace('2018', '2018/teaser') if x == x else x)"
   ]
  },
  {
   "cell_type": "code",
   "execution_count": 46,
   "metadata": {},
   "outputs": [],
   "source": [
    "#\n",
    "# export!!\n",
    "#\n",
    "\n",
    "jsondata = dfx.to_json(force_ascii=False, orient='records')\n",
    "\n",
    "data['cards'] = json.loads(jsondata)\n",
    "\n",
    "with open('/Users/rnp/Sites/digital-shapers/json/data.json', 'w', encoding='utf-8') as jsonfile:\n",
    "    jsonfile.write(json.dumps(data, ensure_ascii=False, indent=4, sort_keys=True))\n",
    "    \n",
    "# backup\n",
    "dfx.to_csv('json_export.csv')"
   ]
  },
  {
   "cell_type": "markdown",
   "metadata": {},
   "source": [
    "# End"
   ]
  },
  {
   "cell_type": "code",
   "execution_count": null,
   "metadata": {},
   "outputs": [],
   "source": []
  },
  {
   "cell_type": "code",
   "execution_count": 28,
   "metadata": {},
   "outputs": [
    {
     "data": {
      "text/plain": [
       "cardFilter4Display   cardFilter5Display    \n",
       "Bienfaiteurs         Recherche                  3\n",
       "                     Développement durable      2\n",
       "                     Services informatiques     2\n",
       "                     Blockchain                 1\n",
       "                     Blockchain?                1\n",
       "                     Finance                    1\n",
       "Chercheurs           Recherche                 10\n",
       "Créatifs             Recherche                  6\n",
       "                     Art                        2\n",
       "                     Développement durable      1\n",
       "                     Services informatiques     1\n",
       "Entrepreneurs        Services informatiques     7\n",
       "                     Finance                    6\n",
       "                     Recherche                  3\n",
       "                     Electronique               2\n",
       "                     Santé                      2\n",
       "                     Blockchain                 1\n",
       "                     Développement durable      1\n",
       "                     Marketing?                 1\n",
       "                     Négoce                     1\n",
       "                     Transport                  1\n",
       "Facilitateurs        Finance                   15\n",
       "                     Services informatiques     3\n",
       "                     Recherche                  2\n",
       "                     ????                       1\n",
       "                     Incubateurs                1\n",
       "Grandes entreprises  Services informatiques     8\n",
       "                     Développement durable      2\n",
       "                     Agroalimentaire            1\n",
       "                     Finance                    1\n",
       "                     Négoce                     1\n",
       "Leaders              Services informatiques     5\n",
       "                     Finance                    2\n",
       "                     Recherche                  2\n",
       "                     Robotique                  1\n",
       "Name: cardFilter5Display, dtype: int64"
      ]
     },
     "execution_count": 28,
     "metadata": {},
     "output_type": "execute_result"
    }
   ],
   "source": [
    "dfm.groupby('cardFilter4Display')['cardFilter5Display'].value_counts()"
   ]
  },
  {
   "cell_type": "code",
   "execution_count": 30,
   "metadata": {},
   "outputs": [
    {
     "data": {
      "text/plain": [
       "Entrepreneurs          25\n",
       "Facilitateurs          22\n",
       "Grandes entreprises    13\n",
       "Chercheurs             10\n",
       "Bienfaiteurs           10\n",
       "Leaders                10\n",
       "Créatifs               10\n",
       "Name: cardFilter4Display, dtype: int64"
      ]
     },
     "execution_count": 30,
     "metadata": {},
     "output_type": "execute_result"
    }
   ],
   "source": [
    "dfm['cardFilter4Display'].value_counts()\n"
   ]
  },
  {
   "cell_type": "code",
   "execution_count": 31,
   "metadata": {},
   "outputs": [
    {
     "data": {
      "text/plain": [
       "Services informatiques    26\n",
       "Recherche                 26\n",
       "Finance                   25\n",
       "Développement durable      6\n",
       "Blockchain                 2\n",
       "Négoce                     2\n",
       "Electronique               2\n",
       "Art                        2\n",
       "Santé                      2\n",
       "Robotique                  1\n",
       "Marketing?                 1\n",
       "Agroalimentaire            1\n",
       "Blockchain?                1\n",
       "Transport                  1\n",
       "Incubateurs                1\n",
       "????                       1\n",
       "Name: cardFilter5Display, dtype: int64"
      ]
     },
     "execution_count": 31,
     "metadata": {},
     "output_type": "execute_result"
    }
   ],
   "source": [
    "dfm['cardFilter5Display'].value_counts()"
   ]
  },
  {
   "cell_type": "code",
   "execution_count": 32,
   "metadata": {},
   "outputs": [],
   "source": [
    "d = list(set(dfm['cardFilter4Display'].tolist()))"
   ]
  },
  {
   "cell_type": "code",
   "execution_count": 33,
   "metadata": {},
   "outputs": [],
   "source": [
    "d = [i for i in d if i == i]"
   ]
  },
  {
   "cell_type": "code",
   "execution_count": 34,
   "metadata": {},
   "outputs": [
    {
     "data": {
      "text/plain": [
       "['f-leaders',\n",
       " 'f-grandes-entreprises',\n",
       " 'f-bienfaiteurs',\n",
       " 'f-chercheurs',\n",
       " 'f-entrepreneurs',\n",
       " 'f-créatifs',\n",
       " 'f-facilitateurs']"
      ]
     },
     "execution_count": 34,
     "metadata": {},
     "output_type": "execute_result"
    }
   ],
   "source": [
    "v = []\n",
    "for i in d:\n",
    "    if i == i:\n",
    "        v.append(dfm[dfm['cardFilter4Display'] == i]['cardFilter4Tri'].values[0])\n",
    "v"
   ]
  },
  {
   "cell_type": "code",
   "execution_count": 35,
   "metadata": {},
   "outputs": [
    {
     "name": "stdout",
     "output_type": "stream",
     "text": [
      "<div class=\"btn\" data-filter=\".f-leaders\">Leaders</div>\n",
      "<div class=\"btn\" data-filter=\".f-grandes-entreprises\">Grandes entreprises</div>\n",
      "<div class=\"btn\" data-filter=\".f-bienfaiteurs\">Bienfaiteurs</div>\n",
      "<div class=\"btn\" data-filter=\".f-chercheurs\">Chercheurs</div>\n",
      "<div class=\"btn\" data-filter=\".f-entrepreneurs\">Entrepreneurs</div>\n",
      "<div class=\"btn\" data-filter=\".f-créatifs\">Créatifs</div>\n",
      "<div class=\"btn\" data-filter=\".f-facilitateurs\">Facilitateurs</div>\n"
     ]
    }
   ],
   "source": [
    "for i, j in zip(v, d):\n",
    "    print('<div class=\"btn\" data-filter=\".{}\">{}</div>'.format(i, j))"
   ]
  }
 ],
 "metadata": {
  "kernelspec": {
   "display_name": "Python 3",
   "language": "python",
   "name": "python3"
  },
  "language_info": {
   "codemirror_mode": {
    "name": "ipython",
    "version": 3
   },
   "file_extension": ".py",
   "mimetype": "text/x-python",
   "name": "python",
   "nbconvert_exporter": "python",
   "pygments_lexer": "ipython3",
   "version": "3.7.0"
  }
 },
 "nbformat": 4,
 "nbformat_minor": 2
}
